{
  "nbformat": 4,
  "nbformat_minor": 0,
  "metadata": {
    "colab": {
      "name": "Погудина М.К. ПИ-323.ipynb",
      "provenance": [],
      "toc_visible": true
    },
    "kernelspec": {
      "name": "python3",
      "display_name": "Python 3"
    },
    "language_info": {
      "name": "python"
    }
  },
  "cells": [
    {
      "cell_type": "markdown",
      "source": [
        "# Заголовок первого уровня\n",
        "\n",
        "\n"
      ],
      "metadata": {
        "id": "Y9vs5ouzCS-J"
      }
    },
    {
      "cell_type": "markdown",
      "source": [
        "## Заголовок второго уровня"
      ],
      "metadata": {
        "id": "0yoMb6CfCrsx"
      }
    },
    {
      "cell_type": "markdown",
      "source": [
        "### Заголовок третьего уровня\n",
        "\n",
        "\n"
      ],
      "metadata": {
        "id": "sMl_uzvKCxow"
      }
    },
    {
      "cell_type": "markdown",
      "source": [
        "# **Греческий** **алфавит**"
      ],
      "metadata": {
        "id": "x661SBUyDctR"
      }
    },
    {
      "cell_type": "markdown",
      "source": [
        "Заглавная|Строчная|Название|\n",
        "--|--|--\n",
        "A|$\\alpha$|альфа"
      ],
      "metadata": {
        "id": "WtN6QTm5DjNI"
      }
    },
    {
      "cell_type": "markdown",
      "source": [
        "Формула в отдельной строке \n",
        "$${\\displaystyle f(x)={\\frac {1}{\\sigma {\\sqrt {2\\pi}}}} e^{-{\\frac {1}{2}} \\left({\\frac{x-\\mu}{\\sigma}}\\right)^{2}}}$$\n",
        " \n",
        "Формула в тексте: ${\\displaystyle f(x)={\\frac {1}{\\sigma {\\sqrt {2\\pi}}}} e^{-{\\frac {1}{2}}\\left({\\frac {x-\\mu}{\\sigma}}\\right)^{2}}}$ "
      ],
      "metadata": {
        "id": "WnB90l3CHl7-"
      }
    }
  ]
}